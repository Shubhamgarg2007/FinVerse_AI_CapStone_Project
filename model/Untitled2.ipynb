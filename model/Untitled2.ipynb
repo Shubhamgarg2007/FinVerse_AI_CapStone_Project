{
 "cells": [
  {
   "cell_type": "code",
   "execution_count": null,
   "id": "6a7e56dc-b8cf-40cb-a942-96b772f7e24e",
   "metadata": {},
   "outputs": [],
   "source": []
  }
 ],
 "metadata": {
  "kernelspec": {
   "display_name": "Python 3.11",
   "language": "python",
   "name": "py311"
  },
  "language_info": {
   "codemirror_mode": {
    "name": "ipython",
    "version": 3
   },
   "file_extension": ".py",
   "mimetype": "text/x-python",
   "name": "python",
   "nbconvert_exporter": "python",
   "pygments_lexer": "ipython3",
   "version": "3.11.0"
  }
 },
 "nbformat": 4,
 "nbformat_minor": 5
}
